{
 "cells": [
  {
   "cell_type": "code",
   "execution_count": 1,
   "metadata": {},
   "outputs": [],
   "source": [
    "# importing all the important libraries and modules\n",
    "import selenium\n",
    "from selenium import webdriver\n",
    "from selenium.webdriver.common.keys import Keys\n",
    "from selenium.webdriver.common.by import By\n",
    "import pandas as pd"
   ]
  },
  {
   "cell_type": "code",
   "execution_count": 2,
   "metadata": {},
   "outputs": [
    {
     "name": "stderr",
     "output_type": "stream",
     "text": [
      "C:\\Users\\adeen\\AppData\\Local\\Temp\\ipykernel_420\\1786466893.py:3: DeprecationWarning: executable_path has been deprecated, please pass in a Service object\n",
      "  browser = webdriver.Chrome('chromedriver.exe')\n"
     ]
    }
   ],
   "source": [
    "# creating a variable named browser which will take commands\n",
    "# Chromedrivers are the drivers which will run the browser once code is exeicuted\n",
    "browser = webdriver.Chrome('chromedriver.exe') \n",
    "browser.maximize_window()\n",
    "browser.get('https://in.indeed.com')"
   ]
  },
  {
   "cell_type": "code",
   "execution_count": 3,
   "metadata": {},
   "outputs": [],
   "source": [
    "# creating parameters\n",
    "job = 'Data Science'\n",
    "where = 'India'"
   ]
  },
  {
   "cell_type": "code",
   "execution_count": 4,
   "metadata": {},
   "outputs": [],
   "source": [
    "# finding class/id/xpath and passing the parameters to get results\n",
    "jobs = browser.find_element(By.ID,\"text-input-what\")\n",
    "jobs.send_keys(job)\n",
    "location = browser.find_element(By.ID,\"text-input-where\")\n",
    "location.send_keys(where)\n",
    "find_btn = browser.find_element(By.CLASS_NAME,\"yosegi-InlineWhatWhere-primaryButton\")\n",
    "find_btn.click()"
   ]
  },
  {
   "cell_type": "code",
   "execution_count": 5,
   "metadata": {},
   "outputs": [],
   "source": [
    "role = browser.find_elements(By.XPATH,\"//span[contains(@id,'jobTitle-')]\")\n",
    "location = browser.find_elements(By.CLASS_NAME,\"companyLocation\")\n",
    "company = browser.find_elements(By.XPATH,\"//span[contains(@class,'companyName')]\")"
   ]
  },
  {
   "cell_type": "code",
   "execution_count": 6,
   "metadata": {},
   "outputs": [
    {
     "name": "stdout",
     "output_type": "stream",
     "text": [
      "Data Science Engineer 5.1\n",
      "Software Engineering Manager - Python / Data Analytics\n",
      "Jr Data Scientist (Remote)\n",
      "Data Science Intern\n",
      "Analyst-Data Science\n",
      "Analyst, Data Science & Analytics\n",
      "Consultant, Data Science and Analytics\n",
      "Data Scientist\n",
      "Data Science Specialist - Part-Time, Bloom Institute of Tech...\n",
      "Data Scientist\n",
      "Data Science Specialist\n",
      "Data Analyst- Analytics\n",
      "Data Scientist\n",
      "Data Scientists\n",
      "Partner - Data Science\n",
      "*-*-*-*-*-*-*-*-*-*-*-*-*-*-*-*-*-*-*-*-*-*-*-*-*-*-*-*-*-*-*-*-*-*-*-*-*-*-*-*-*-*-*-*-*-*-*-*-*-*-*-*-*-*-*-*-*-*-*-*-*-*-*-*-*-*-*-*-*-*-*-*-*-*-*-*-*-*-*-*-\n",
      "ANZ Banking Group\n",
      "FrogData\n",
      "Think Future Technologies\n",
      "Tanishq Enterprises pvt ltd\n",
      "Amex\n",
      "TransUnion\n",
      "TransUnion\n",
      "Deets Digital\n",
      "Crossover\n",
      "Infosys Limited\n",
      "Altum Credo Home Finance\n",
      "Colgate-Palmolive\n",
      "Atotech\n",
      "Xtage Labs\n",
      "Dentsu Aegis Network\n",
      "*-*-*-*-*-*-*-*-*-*-*-*-*-*-*-*-*-*-*-*-*-*-*-*-*-*-*-*-*-*-*-*-*-*-*-*-*-*-*-*-*-*-*-*-*-*-*-*-*-*-*-*-*-*-*-*-*-*-*-*-*-*-*-*-*-*-*-*-*-*-*-*-*-*-*-*-*-*-*-*-\n",
      "Bengaluru, Karnataka\n",
      "Bengaluru, Karnataka\n",
      "Remote in Gurgaon, Haryana\n",
      "Pune, Maharashtra\n",
      "Gurgaon, Haryana\n",
      "Pune, Maharashtra\n",
      "Pune, Maharashtra\n",
      "Bengaluru, Karnataka\n",
      "Remote in Maharashtra\n",
      "+5 locations\n",
      "Bengaluru, Karnataka\n",
      "Pune, Maharashtra\n",
      "Mumbai, Maharashtra\n",
      "India\n",
      "India\n",
      "Gurgaon, Haryana\n"
     ]
    }
   ],
   "source": [
    "# creating three lists for getting job titile, company, location \n",
    "\n",
    "roles =[]\n",
    "locations = []\n",
    "StateName = []\n",
    "\n",
    "for designation in role :\n",
    "    print(designation.text)\n",
    "    roles.append(designation.text)\n",
    "\n",
    "print(\"*-*-\"*40)\n",
    "\n",
    "\n",
    "for office in company:\n",
    "    print(office.text)\n",
    "    StateName.append(office.text)\n",
    "\n",
    "print(\"*-*-\"*40)\n",
    "\n",
    "for place in location :\n",
    "    print(place.text)\n",
    "    locations.append(place.text)"
   ]
  },
  {
   "cell_type": "code",
   "execution_count": 7,
   "metadata": {},
   "outputs": [],
   "source": [
    "# zipping and saving data \n",
    "final = zip(roles,StateName,locations)"
   ]
  },
  {
   "cell_type": "code",
   "execution_count": 8,
   "metadata": {},
   "outputs": [
    {
     "name": "stdout",
     "output_type": "stream",
     "text": [
      "('Data Science Engineer 5.1', 'ANZ Banking Group', 'Bengaluru, Karnataka')\n",
      "('Software Engineering Manager - Python / Data Analytics', 'FrogData', 'Bengaluru, Karnataka')\n",
      "('Jr Data Scientist (Remote)', 'Think Future Technologies', 'Remote in Gurgaon, Haryana')\n",
      "('Data Science Intern', 'Tanishq Enterprises pvt ltd', 'Pune, Maharashtra')\n",
      "('Analyst-Data Science', 'Amex', 'Gurgaon, Haryana')\n",
      "('Analyst, Data Science & Analytics', 'TransUnion', 'Pune, Maharashtra')\n",
      "('Consultant, Data Science and Analytics', 'TransUnion', 'Pune, Maharashtra')\n",
      "('Data Scientist', 'Deets Digital', 'Bengaluru, Karnataka')\n",
      "('Data Science Specialist - Part-Time, Bloom Institute of Tech...', 'Crossover', 'Remote in Maharashtra\\n+5 locations')\n",
      "('Data Scientist', 'Infosys Limited', 'Bengaluru, Karnataka')\n",
      "('Data Science Specialist', 'Altum Credo Home Finance', 'Pune, Maharashtra')\n",
      "('Data Analyst- Analytics', 'Colgate-Palmolive', 'Mumbai, Maharashtra')\n",
      "('Data Scientist', 'Atotech', 'India')\n",
      "('Data Scientists', 'Xtage Labs', 'India')\n",
      "('Partner - Data Science', 'Dentsu Aegis Network', 'Gurgaon, Haryana')\n"
     ]
    }
   ],
   "source": [
    "for data in list(final):\n",
    "    print(data)"
   ]
  }
 ],
 "metadata": {
  "kernelspec": {
   "display_name": "Python 3.10.7 64-bit (microsoft store)",
   "language": "python",
   "name": "python3"
  },
  "language_info": {
   "codemirror_mode": {
    "name": "ipython",
    "version": 3
   },
   "file_extension": ".py",
   "mimetype": "text/x-python",
   "name": "python",
   "nbconvert_exporter": "python",
   "pygments_lexer": "ipython3",
   "version": "3.10.7"
  },
  "orig_nbformat": 4,
  "vscode": {
   "interpreter": {
    "hash": "3c2bf89ec7708e2b41551bd5254b418363dc52d0668317de798d3f16269ac5ce"
   }
  }
 },
 "nbformat": 4,
 "nbformat_minor": 2
}
